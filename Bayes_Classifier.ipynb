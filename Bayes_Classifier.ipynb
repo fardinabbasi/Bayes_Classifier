{
 "cells": [
  {
   "cell_type": "markdown",
   "id": "c87f1f9f",
   "metadata": {
    "toc": true
   },
   "source": [
    "<h1>Table of Contents<span class=\"tocSkip\"></span></h1>\n",
    "<div class=\"toc\"><ul class=\"toc-item\"><li><span><a href=\"#Naive-Bayes-Classifier\" data-toc-modified-id=\"Naive-Bayes-Classifier-1\"><span class=\"toc-item-num\">1&nbsp;&nbsp;</span>Naive Bayes Classifier</a></span><ul class=\"toc-item\"><li><span><a href=\"#-Naive-Bayes-Classifier-from-Scratch\" data-toc-modified-id=\"-Naive-Bayes-Classifier-from-Scratch-1.1\"><span class=\"toc-item-num\">1.1&nbsp;&nbsp;</span> Naive Bayes Classifier from Scratch</a></span><ul class=\"toc-item\"><li><span><a href=\"#-Adelie-vs.-All\" data-toc-modified-id=\"-Adelie-vs.-All-1.1.1\"><span class=\"toc-item-num\">1.1.1&nbsp;&nbsp;</span> Adelie vs. All</a></span></li><li><span><a href=\"#-Gentoo-vs.-All\" data-toc-modified-id=\"-Gentoo-vs.-All-1.1.2\"><span class=\"toc-item-num\">1.1.2&nbsp;&nbsp;</span> Gentoo vs. All</a></span></li><li><span><a href=\"#-Chinstrap-vs.-All\" data-toc-modified-id=\"-Chinstrap-vs.-All-1.1.3\"><span class=\"toc-item-num\">1.1.3&nbsp;&nbsp;</span> Chinstrap vs. All</a></span></li></ul></li><li><span><a href=\"#-Naive-Bayes-Classifier-Using-SKLEARN\" data-toc-modified-id=\"-Naive-Bayes-Classifier-Using-SKLEARN-1.2\"><span class=\"toc-item-num\">1.2&nbsp;&nbsp;</span> Naive Bayes Classifier Using SKLEARN</a></span><ul class=\"toc-item\"><li><span><a href=\"#-Adelie-vs.-All\" data-toc-modified-id=\"-Adelie-vs.-All-1.2.1\"><span class=\"toc-item-num\">1.2.1&nbsp;&nbsp;</span> Adelie vs. All</a></span></li><li><span><a href=\"#-Gentoo-vs.-All\" data-toc-modified-id=\"-Gentoo-vs.-All-1.2.2\"><span class=\"toc-item-num\">1.2.2&nbsp;&nbsp;</span> Gentoo vs. All</a></span></li><li><span><a href=\"#-Chinstrap-vs.-All\" data-toc-modified-id=\"-Chinstrap-vs.-All-1.2.3\"><span class=\"toc-item-num\">1.2.3&nbsp;&nbsp;</span> Chinstrap vs. All</a></span></li></ul></li></ul></li></ul></div>"
   ]
  },
  {
   "cell_type": "markdown",
   "id": "88c7de39",
   "metadata": {},
   "source": [
    "# Naive Bayes Classifier"
   ]
  },
  {
   "cell_type": "code",
   "execution_count": 10,
   "id": "9fa9dbb3",
   "metadata": {
    "scrolled": true
   },
   "outputs": [],
   "source": [
    "from sklearn.preprocessing import StandardScaler, MinMaxScaler\n",
    "from sklearn.model_selection import train_test_split\n",
    "from sklearn.metrics import confusion_matrix,ConfusionMatrixDisplay, classification_report\n",
    "import matplotlib.pyplot as plt\n",
    "from sklearn.naive_bayes import GaussianNB\n",
    "import pandas as pd\n",
    "import numpy as np\n",
    "import seaborn as sns"
   ]
  },
  {
   "cell_type": "code",
   "execution_count": 2,
   "id": "75ee0026",
   "metadata": {},
   "outputs": [],
   "source": [
    "url = \"https://raw.githubusercontent.com/fardinabbasi/Bayes_Classifier/main/penguins.csv\"\n",
    "df=pd.read_csv(url)\n",
    "def preprocess(data):\n",
    "    df = data.copy()\n",
    "    value = df.drop(df.columns[0], axis=1, inplace=False)\n",
    "    label = df[df.columns[0]]\n",
    "    value = value.apply(lambda col: filling(col))\n",
    "    value = normalize(value)\n",
    "    return value, label\n",
    "\n",
    "def filling(col):\n",
    "    col = pd.to_numeric(col, errors='coerce').astype('float64')\n",
    "    return col.fillna(col.mean())\n",
    "\n",
    "def normalize(value):\n",
    "    msc = MinMaxScaler()\n",
    "    return pd.DataFrame(msc.fit_transform(value), columns=value.columns)"
   ]
  },
  {
   "cell_type": "markdown",
   "id": "7be99061",
   "metadata": {},
   "source": [
    "<h2> Naive Bayes Classifier from Scratch</h2>"
   ]
  },
  {
   "cell_type": "code",
   "execution_count": 3,
   "id": "927d576f",
   "metadata": {},
   "outputs": [],
   "source": [
    "class NaiveBayes():\n",
    "\tdef __init__(self, X, y):\n",
    "\t\tself.value = train_value\n",
    "\t\tself.label = train_label\n",
    "\t\tself.classes = np.unique(self.label)\n",
    "\t\tself.mean = np.zeros((len(self.classes), len(self.value.columns)))\n",
    "\t\tself.var = np.zeros((len(self.classes), len(self.value.columns)))\n",
    "\t\tself.prior = np.zeros((len(self.classes)))\n",
    "\tdef train(self):\n",
    "\t\tself.calculate_mean()\n",
    "\t\tself.calculate_var()\n",
    "\t\tself.calculate_prior()\n",
    "\tdef calculate_mean(self):\n",
    "\t\tfor i,cls in enumerate(self.classes):\n",
    "\t\t\tfor j,feature in enumerate(self.value.columns):\n",
    "\t\t\t\tself.mean[i][j] = self.value[self.label==cls][feature].mean(axis=0)\n",
    "\tdef calculate_var(self):\n",
    "\t\tfor i,cls in enumerate(self.classes):\n",
    "\t\t\tfor j,feature in enumerate(self.value.columns):\n",
    "\t\t\t\tself.var[i][j] = self.value[self.label==cls][feature].var(axis=0)\n",
    "\tdef calculate_prior(self):\n",
    "\t\tfor i ,cls in enumerate(self.classes):\n",
    "\t\t\tself.prior[i]=sum(self.label==cls)/len(self.label)\n",
    "\tdef predict(self, test_value, test_label):\n",
    "\t\tdf = test_value.copy()\n",
    "\t\tdf['y_pred'] = test_value.apply(lambda row: self.posterior(np.array(row)), axis=1)\n",
    "\t\tdf = pd.concat([df, test_label], axis=1)\n",
    "\t\treturn df\n",
    "\tdef posterior(self,x):\n",
    "\t\tprob=[]\n",
    "\t\tfor i,cls in enumerate(self.classes):\n",
    "\t\t\tpost=np.sum(self.prior[i]*self.likelihood(i,x))\n",
    "\t\t\tprob.append(post)\n",
    "\t\tmax_idx=np.argmax(prob)\n",
    "\t\treturn self.classes[max_idx]\n",
    "\tdef likelihood(self,cls_idx,x):\n",
    "\t\tmean,var=self.mean[cls_idx],self.var[cls_idx]\n",
    "\t\tprob=(np.exp(-(x-mean)**2/(2*var))/np.sqrt(2*np.pi*var))\n",
    "\t\treturn prob"
   ]
  },
  {
   "cell_type": "markdown",
   "id": "82eea207",
   "metadata": {},
   "source": [
    "<h3> Adelie vs. All</h3>"
   ]
  },
  {
   "cell_type": "code",
   "execution_count": 14,
   "id": "2ce6c745",
   "metadata": {},
   "outputs": [
    {
     "name": "stdout",
     "output_type": "stream",
     "text": [
      "              precision    recall  f1-score   support\n",
      "\n",
      "      Adelie       0.84      0.86      0.85        50\n",
      "       Other       0.87      0.85      0.86        53\n",
      "\n",
      "    accuracy                           0.85       103\n",
      "   macro avg       0.85      0.85      0.85       103\n",
      "weighted avg       0.85      0.85      0.85       103\n",
      "\n"
     ]
    },
    {
     "data": {
      "image/png": "[encoded data removed]",
      "text/plain": [
       "<Figure size 432x288 with 2 Axes>"
      ]
     },
     "metadata": {
      "needs_background": "light"
     },
     "output_type": "display_data"
    }
   ],
   "source": [
    "df_adelie = df.copy()\n",
    "df_adelie['species'] = df['species'].replace(['Gentoo', 'Chinstrap'], 'Other', inplace=False)\n",
    "value, label = preprocess(df_adelie)\n",
    "train_value, test_value, train_label, test_label = train_test_split(value, label,shuffle=True, test_size=0.3, random_state=42)\n",
    "data = NaiveBayes(train_value, train_label)\n",
    "data.train()\n",
    "result = data.predict(test_value, test_label)\n",
    "\n",
    "matrix=confusion_matrix(result['species'], result['y_pred'])\n",
    "disp=ConfusionMatrixDisplay(matrix)\n",
    "disp.plot()\n",
    "\n",
    "print(classification_report(result['species'],result['y_pred']))"
   ]
  },
  {
   "cell_type": "markdown",
   "id": "143431cf",
   "metadata": {},
   "source": [
    "<h3> Gentoo vs. All</h3>"
   ]
  },
  {
   "cell_type": "code",
   "execution_count": 16,
   "id": "12f948dc",
   "metadata": {},
   "outputs": [
    {
     "name": "stdout",
     "output_type": "stream",
     "text": [
      "              precision    recall  f1-score   support\n",
      "\n",
      "      Gentoo       0.97      0.94      0.96        35\n",
      "       Other       0.97      0.99      0.98        68\n",
      "\n",
      "    accuracy                           0.97       103\n",
      "   macro avg       0.97      0.96      0.97       103\n",
      "weighted avg       0.97      0.97      0.97       103\n",
      "\n"
     ]
    },
    {
     "data": {
      "image/png": "[encoded data removed]",
      "text/plain": [
       "<Figure size 432x288 with 2 Axes>"
      ]
     },
     "metadata": {
      "needs_background": "light"
     },
     "output_type": "display_data"
    }
   ],
   "source": [
    "df_gentoo = df.copy()\n",
    "df_gentoo['species'] = df['species'].replace(['Adelie', 'Chinstrap'], 'Other', inplace=False)\n",
    "value, label = preprocess(df_gentoo)\n",
    "train_value, test_value, train_label, test_label = train_test_split(value, label, test_size=0.3,shuffle=True, random_state=42)\n",
    "data = NaiveBayes(train_value, train_label)\n",
    "data.train()\n",
    "result = data.predict(test_value, test_label)\n",
    "\n",
    "matrix=confusion_matrix(result['species'], result['y_pred'])\n",
    "disp=ConfusionMatrixDisplay(matrix)\n",
    "disp.plot()\n",
    "\n",
    "print(classification_report(result['species'],result['y_pred']))"
   ]
  },
  {
   "cell_type": "markdown",
   "id": "311dfca7",
   "metadata": {},
   "source": [
    "<h3> Chinstrap vs. All</h3>"
   ]
  },
  {
   "cell_type": "code",
   "execution_count": 21,
   "id": "39672332",
   "metadata": {},
   "outputs": [
    {
     "name": "stdout",
     "output_type": "stream",
     "text": [
      "              precision    recall  f1-score   support\n",
      "\n",
      "   Chinstrap       0.00      0.00      0.00        18\n",
      "       Other       0.83      1.00      0.90        85\n",
      "\n",
      "    accuracy                           0.83       103\n",
      "   macro avg       0.41      0.50      0.45       103\n",
      "weighted avg       0.68      0.83      0.75       103\n",
      "\n"
     ]
    },
    {
     "data": {
      "image/png": "[encoded data removed]",
      "text/plain": [
       "<Figure size 432x288 with 2 Axes>"
      ]
     },
     "metadata": {
      "needs_background": "light"
     },
     "output_type": "display_data"
    }
   ],
   "source": [
    "df_chinstrap = df.copy()\n",
    "df_chinstrap['species'] = df['species'].replace(['Adelie', 'Gentoo'], 'Other', inplace=False)\n",
    "value, label = preprocess(df_chinstrap)\n",
    "train_value, test_value, train_label, test_label = train_test_split(value, label, test_size=0.3, random_state=42)\n",
    "data = NaiveBayes(train_value, train_label)\n",
    "data.train()\n",
    "result = data.predict(test_value, test_label)\n",
    "\n",
    "matrix=confusion_matrix(result['species'], result['y_pred'])\n",
    "disp=ConfusionMatrixDisplay(matrix)\n",
    "disp.plot()\n",
    "\n",
    "print(classification_report(result['species'],result['y_pred'],zero_division=0))"
   ]
  },
  {
   "cell_type": "markdown",
   "id": "dc8806c6",
   "metadata": {},
   "source": [
    "<h2> Naive Bayes Classifier Using SKLEARN</h2>"
   ]
  },
  {
   "cell_type": "markdown",
   "id": "68953281",
   "metadata": {},
   "source": [
    "<h3> Adelie vs. All</h3>"
   ]
  },
  {
   "cell_type": "code",
   "execution_count": 23,
   "id": "aa4e61f1",
   "metadata": {},
   "outputs": [
    {
     "name": "stdout",
     "output_type": "stream",
     "text": [
      "              precision    recall  f1-score   support\n",
      "\n",
      "      Adelie       0.94      0.88      0.91        50\n",
      "       Other       0.89      0.94      0.92        53\n",
      "\n",
      "    accuracy                           0.91       103\n",
      "   macro avg       0.91      0.91      0.91       103\n",
      "weighted avg       0.91      0.91      0.91       103\n",
      "\n"
     ]
    },
    {
     "data": {
      "image/png": "[encoded data removed]",
      "text/plain": [
       "<Figure size 432x288 with 2 Axes>"
      ]
     },
     "metadata": {
      "needs_background": "light"
     },
     "output_type": "display_data"
    }
   ],
   "source": [
    "df_adelie = df.copy()\n",
    "df_adelie['species'] = df['species'].replace(['Gentoo', 'Chinstrap'], 'Other', inplace=False)\n",
    "value, label = preprocess(df_adelie)\n",
    "train_value, test_value, train_label, test_label = train_test_split(value, label,shuffle=True, test_size=0.3, random_state=42)\n",
    "gnb = GaussianNB()\n",
    "y_pred = gnb.fit(train_value, train_label).predict(test_value)\n",
    "matrix=confusion_matrix(test_label,y_pred)\n",
    "\n",
    "disp=ConfusionMatrixDisplay(matrix)\n",
    "disp.plot()\n",
    "\n",
    "print(classification_report(test_label,y_pred))"
   ]
  },
  {
   "cell_type": "markdown",
   "id": "1d317fa5",
   "metadata": {},
   "source": [
    "<h3> Gentoo vs. All</h3>"
   ]
  },
  {
   "cell_type": "code",
   "execution_count": 24,
   "id": "7d55a363",
   "metadata": {},
   "outputs": [
    {
     "name": "stdout",
     "output_type": "stream",
     "text": [
      "              precision    recall  f1-score   support\n",
      "\n",
      "      Gentoo       1.00      0.97      0.99        35\n",
      "       Other       0.99      1.00      0.99        68\n",
      "\n",
      "    accuracy                           0.99       103\n",
      "   macro avg       0.99      0.99      0.99       103\n",
      "weighted avg       0.99      0.99      0.99       103\n",
      "\n"
     ]
    },
    {
     "data": {
      "image/png": "[encoded data removed]",
      "text/plain": [
       "<Figure size 432x288 with 2 Axes>"
      ]
     },
     "metadata": {
      "needs_background": "light"
     },
     "output_type": "display_data"
    }
   ],
   "source": [
    "df_gentoo = df.copy()\n",
    "df_gentoo['species'] = df['species'].replace(['Adelie', 'Chinstrap'], 'Other', inplace=False)\n",
    "value, label = preprocess(df_gentoo)\n",
    "train_value, test_value, train_label, test_label = train_test_split(value, label, test_size=0.3,shuffle=True, random_state=42)\n",
    "gnb = GaussianNB()\n",
    "y_pred = gnb.fit(train_value, train_label).predict(test_value)\n",
    "matrix=confusion_matrix(test_label,y_pred)\n",
    "disp=ConfusionMatrixDisplay(matrix)\n",
    "disp.plot()\n",
    "\n",
    "print(classification_report(test_label,y_pred))"
   ]
  },
  {
   "cell_type": "markdown",
   "id": "a2ad70c4",
   "metadata": {},
   "source": [
    "<h3> Chinstrap vs. All</h3>"
   ]
  },
  {
   "cell_type": "code",
   "execution_count": 25,
   "id": "47e112df",
   "metadata": {},
   "outputs": [
    {
     "name": "stdout",
     "output_type": "stream",
     "text": [
      "              precision    recall  f1-score   support\n",
      "\n",
      "   Chinstrap       0.93      0.78      0.85        18\n",
      "       Other       0.95      0.99      0.97        85\n",
      "\n",
      "    accuracy                           0.95       103\n",
      "   macro avg       0.94      0.88      0.91       103\n",
      "weighted avg       0.95      0.95      0.95       103\n",
      "\n"
     ]
    },
    {
     "data": {
      "image/png": "[encoded data removed]",
      "text/plain": [
       "<Figure size 432x288 with 2 Axes>"
      ]
     },
     "metadata": {
      "needs_background": "light"
     },
     "output_type": "display_data"
    }
   ],
   "source": [
    "df_chinstrap = df.copy()\n",
    "df_chinstrap['species'] = df['species'].replace(['Adelie', 'Gentoo'], 'Other', inplace=False)\n",
    "value, label = preprocess(df_chinstrap)\n",
    "train_value, test_value, train_label, test_label = train_test_split(value, label,shuffle=True, test_size=0.3, random_state=42)\n",
    "gnb = GaussianNB()\n",
    "y_pred = gnb.fit(train_value, train_label).predict(test_value)\n",
    "matrix=confusion_matrix(test_label,y_pred)\n",
    "disp=ConfusionMatrixDisplay(matrix)\n",
    "disp.plot()\n",
    "\n",
    "print(classification_report(test_label,y_pred))"
   ]
  }
 ],
 "metadata": {
  "kernelspec": {
   "display_name": "Python 3",
   "language": "python",
   "name": "python3"
  },
  "language_info": {
   "codemirror_mode": {
    "name": "ipython",
    "version": 3
   },
   "file_extension": ".py",
   "mimetype": "text/x-python",
   "name": "python",
   "nbconvert_exporter": "python",
   "pygments_lexer": "ipython3",
   "version": "3.8.8"
  },
  "toc": {
   "base_numbering": 1,
   "nav_menu": {},
   "number_sections": true,
   "sideBar": true,
   "skip_h1_title": false,
   "title_cell": "Table of Contents",
   "title_sidebar": "Contents",
   "toc_cell": true,
   "toc_position": {},
   "toc_section_display": true,
   "toc_window_display": false
  }
 },
 "nbformat": 4,
 "nbformat_minor": 5
}
